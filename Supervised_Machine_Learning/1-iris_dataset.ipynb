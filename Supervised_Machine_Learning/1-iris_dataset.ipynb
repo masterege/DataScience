{
 "cells": [
  {
   "cell_type": "code",
   "execution_count": 5,
   "metadata": {},
   "outputs": [],
   "source": [
    "import numpy as np\n",
    "import pandas as pd\n",
    "from sklearn.model_selection import train_test_split\n",
    "from sklearn.svm import SVC\n",
    "from sklearn.linear_model import LogisticRegression\n",
    "from sklearn.ensemble import RandomForestClassifier\n",
    "from sklearn.neighbors import KNeighborsClassifier\n",
    "from sklearn.tree import DecisionTreeClassifier\n",
    "from sklearn.metrics import accuracy_score\n",
    "import matplotlib.pyplot as plt\n"
   ]
  },
  {
   "cell_type": "markdown",
   "metadata": {},
   "source": [
    "# Iris Data Machine Learning Implementation"
   ]
  },
  {
   "cell_type": "code",
   "execution_count": 30,
   "metadata": {},
   "outputs": [
    {
     "data": {
      "text/html": [
       "<div>\n",
       "<style scoped>\n",
       "    .dataframe tbody tr th:only-of-type {\n",
       "        vertical-align: middle;\n",
       "    }\n",
       "\n",
       "    .dataframe tbody tr th {\n",
       "        vertical-align: top;\n",
       "    }\n",
       "\n",
       "    .dataframe thead th {\n",
       "        text-align: right;\n",
       "    }\n",
       "</style>\n",
       "<table border=\"1\" class=\"dataframe\">\n",
       "  <thead>\n",
       "    <tr style=\"text-align: right;\">\n",
       "      <th></th>\n",
       "      <th>Id</th>\n",
       "      <th>SepalLengthCm</th>\n",
       "      <th>SepalWidthCm</th>\n",
       "      <th>PetalLengthCm</th>\n",
       "      <th>PetalWidthCm</th>\n",
       "      <th>Species</th>\n",
       "    </tr>\n",
       "  </thead>\n",
       "  <tbody>\n",
       "    <tr>\n",
       "      <th>0</th>\n",
       "      <td>1</td>\n",
       "      <td>5.1</td>\n",
       "      <td>3.5</td>\n",
       "      <td>1.4</td>\n",
       "      <td>0.2</td>\n",
       "      <td>Iris-setosa</td>\n",
       "    </tr>\n",
       "    <tr>\n",
       "      <th>1</th>\n",
       "      <td>2</td>\n",
       "      <td>4.9</td>\n",
       "      <td>3.0</td>\n",
       "      <td>1.4</td>\n",
       "      <td>0.2</td>\n",
       "      <td>Iris-setosa</td>\n",
       "    </tr>\n",
       "    <tr>\n",
       "      <th>2</th>\n",
       "      <td>3</td>\n",
       "      <td>4.7</td>\n",
       "      <td>3.2</td>\n",
       "      <td>1.3</td>\n",
       "      <td>0.2</td>\n",
       "      <td>Iris-setosa</td>\n",
       "    </tr>\n",
       "    <tr>\n",
       "      <th>3</th>\n",
       "      <td>4</td>\n",
       "      <td>4.6</td>\n",
       "      <td>3.1</td>\n",
       "      <td>1.5</td>\n",
       "      <td>0.2</td>\n",
       "      <td>Iris-setosa</td>\n",
       "    </tr>\n",
       "    <tr>\n",
       "      <th>4</th>\n",
       "      <td>5</td>\n",
       "      <td>5.0</td>\n",
       "      <td>3.6</td>\n",
       "      <td>1.4</td>\n",
       "      <td>0.2</td>\n",
       "      <td>Iris-setosa</td>\n",
       "    </tr>\n",
       "  </tbody>\n",
       "</table>\n",
       "</div>"
      ],
      "text/plain": [
       "   Id  SepalLengthCm  SepalWidthCm  PetalLengthCm  PetalWidthCm      Species\n",
       "0   1            5.1           3.5            1.4           0.2  Iris-setosa\n",
       "1   2            4.9           3.0            1.4           0.2  Iris-setosa\n",
       "2   3            4.7           3.2            1.3           0.2  Iris-setosa\n",
       "3   4            4.6           3.1            1.5           0.2  Iris-setosa\n",
       "4   5            5.0           3.6            1.4           0.2  Iris-setosa"
      ]
     },
     "execution_count": 30,
     "metadata": {},
     "output_type": "execute_result"
    }
   ],
   "source": [
    "# Load Iris\n",
    "iris = pd.read_csv(r\"C:\\Users\\egeeb\\Python Workspace\\Python\\Projects\\Datasets\\Iris.csv\")\n",
    "iris.head()"
   ]
  },
  {
   "cell_type": "code",
   "execution_count": 31,
   "metadata": {},
   "outputs": [
    {
     "name": "stdout",
     "output_type": "stream",
     "text": [
      "<class 'pandas.core.frame.DataFrame'>\n",
      "RangeIndex: 150 entries, 0 to 149\n",
      "Data columns (total 6 columns):\n",
      " #   Column         Non-Null Count  Dtype  \n",
      "---  ------         --------------  -----  \n",
      " 0   Id             150 non-null    int64  \n",
      " 1   SepalLengthCm  150 non-null    float64\n",
      " 2   SepalWidthCm   150 non-null    float64\n",
      " 3   PetalLengthCm  150 non-null    float64\n",
      " 4   PetalWidthCm   150 non-null    float64\n",
      " 5   Species        150 non-null    object \n",
      "dtypes: float64(4), int64(1), object(1)\n",
      "memory usage: 7.2+ KB\n"
     ]
    }
   ],
   "source": [
    "iris.info()"
   ]
  },
  {
   "cell_type": "code",
   "execution_count": 32,
   "metadata": {},
   "outputs": [],
   "source": [
    "# We can Drop ID\n",
    "iris.drop('Id', axis = 1, inplace = True)"
   ]
  },
  {
   "cell_type": "code",
   "execution_count": 33,
   "metadata": {},
   "outputs": [
    {
     "name": "stdout",
     "output_type": "stream",
     "text": [
      "<class 'pandas.core.frame.DataFrame'>\n",
      "RangeIndex: 150 entries, 0 to 149\n",
      "Data columns (total 5 columns):\n",
      " #   Column         Non-Null Count  Dtype  \n",
      "---  ------         --------------  -----  \n",
      " 0   SepalLengthCm  150 non-null    float64\n",
      " 1   SepalWidthCm   150 non-null    float64\n",
      " 2   PetalLengthCm  150 non-null    float64\n",
      " 3   PetalWidthCm   150 non-null    float64\n",
      " 4   Species        150 non-null    object \n",
      "dtypes: float64(4), object(1)\n",
      "memory usage: 6.0+ KB\n"
     ]
    }
   ],
   "source": [
    "iris.info()"
   ]
  },
  {
   "cell_type": "code",
   "execution_count": 34,
   "metadata": {},
   "outputs": [
    {
     "name": "stdout",
     "output_type": "stream",
     "text": [
      "['Iris-setosa' 'Iris-versicolor' 'Iris-virginica']\n"
     ]
    }
   ],
   "source": [
    "# To Find Labels\n",
    "print(iris['Species'].unique())"
   ]
  },
  {
   "cell_type": "code",
   "execution_count": 35,
   "metadata": {},
   "outputs": [
    {
     "name": "stderr",
     "output_type": "stream",
     "text": [
      "c:\\Users\\egeeb\\anaconda3\\lib\\site-packages\\pandas\\plotting\\_matplotlib\\core.py:1114: UserWarning: No data for colormapping provided via 'c'. Parameters 'cmap' will be ignored\n",
      "  scatter = ax.scatter(\n"
     ]
    },
    {
     "data": {
      "image/png": "[encoded data removed]",
      "text/plain": [
       "<Figure size 1000x600 with 1 Axes>"
      ]
     },
     "metadata": {},
     "output_type": "display_data"
    }
   ],
   "source": [
    "figure = iris[iris.Species == 'Iris-setosa'].plot(kind = 'scatter', x = 'SepalLengthCm', y = 'SepalWidthCm', color = 'orange', label = 'Setosa')\n",
    "iris[iris.Species == 'Iris-versicolor'].plot(kind = 'scatter', x = 'SepalLengthCm', y = 'SepalWidthCm', color = 'blue', label = 'Versicolor',ax = figure)\n",
    "iris[iris.Species == 'Iris-virginica'].plot(kind = 'scatter', x = 'SepalLengthCm', y = 'SepalWidthCm', color = 'green', label = 'Virginica', ax = figure)\n",
    "figure.set_xlabel(\"Sepal Length\")\n",
    "figure.set_ylabel(\"Sepal Width\")\n",
    "figure.set_title(\"Sepal Length VS Width\")\n",
    "figure = plt.gcf()\n",
    "figure.set_size_inches(10,6)\n",
    "plt.show()"
   ]
  },
  {
   "cell_type": "code",
   "execution_count": 36,
   "metadata": {},
   "outputs": [
    {
     "data": {
      "image/png": "[encoded data removed]",
      "text/plain": [
       "<Figure size 1000x600 with 1 Axes>"
      ]
     },
     "metadata": {},
     "output_type": "display_data"
    }
   ],
   "source": [
    "figure = iris[iris.Species == 'Iris-setosa'].plot(kind = 'scatter', x = 'PetalLengthCm', y = 'PetalWidthCm', color = 'Red', label = 'Setosa')\n",
    "iris[iris.Species == 'Iris-versicolor'].plot(kind = 'scatter', x = 'PetalLengthCm', y = 'PetalWidthCm', color = 'Green', label = 'Versicolor',ax = figure)\n",
    "iris[iris.Species == 'Iris-virginica'].plot(kind = 'scatter', x = 'PetalLengthCm', y = 'PetalWidthCm', color = 'Blue', label = 'Virginica', ax = figure)\n",
    "figure.set_xlabel(\"Petal Length\")\n",
    "figure.set_ylabel(\"Petal Width\")\n",
    "figure.set_title(\"Petal Length VS Width\")\n",
    "figure = plt.gcf()\n",
    "figure.set_size_inches(10,6)\n",
    "plt.show()"
   ]
  },
  {
   "cell_type": "markdown",
   "metadata": {},
   "source": [
    "According to the figures above; it can be seen that Petal Length-Width comparison will give a clearer cluster comparison."
   ]
  },
  {
   "cell_type": "code",
   "execution_count": 42,
   "metadata": {},
   "outputs": [
    {
     "data": {
      "image/png": "[encoded data removed]",
      "text/plain": [
       "<Figure size 700x400 with 2 Axes>"
      ]
     },
     "metadata": {},
     "output_type": "display_data"
    }
   ],
   "source": [
    "# Exclude non-numeric columns when calculating the correlation matrix\n",
    "numeric_columns = iris.select_dtypes(include='number')\n",
    "correlation_matrix = numeric_columns.corr()\n",
    "\n",
    "# Set the figure size\n",
    "plt.figure(figsize=(7, 4))\n",
    "\n",
    "# Create a heatmap\n",
    "heatmap = plt.imshow(correlation_matrix, cmap = 'cubehelix_r', interpolation='nearest')\n",
    "\n",
    "# Display the correlation values on the heatmap\n",
    "for i in range(len(correlation_matrix)):\n",
    "    for j in range(len(correlation_matrix)):\n",
    "        plt.text(j, i, f\"{correlation_matrix.iloc[i, j]:.2f}\", ha='center', va='center', color='w')\n",
    "\n",
    "# Set labels and title\n",
    "plt.xticks(range(len(correlation_matrix)), correlation_matrix.columns, rotation=45)\n",
    "plt.yticks(range(len(correlation_matrix)), correlation_matrix.columns)\n",
    "plt.title(\"Correlation Matrix\")\n",
    "\n",
    "# Display the colorbar\n",
    "plt.colorbar(heatmap)\n",
    "\n",
    "# Show the plot\n",
    "plt.show()"
   ]
  },
  {
   "cell_type": "markdown",
   "metadata": {},
   "source": [
    "As it can be seen, there is a very high correlation between Petal Length and Width. This will be more obvious when the model accuracies are compared.\n",
    "\n",
    "The first evaluation will be made with using all the features.\n",
    "\n",
    "The final evaluation will be made as a comparison of:\n",
    "- SVM: Accuracy(Petal Length-Width) vs Accuracy(Sepal Length-Width)\n",
    "- Logistic Regression: Accuracy(Petal Length-Width) vs Accuracy(Sepal Length-Width)\n",
    "- Random Forest: Accuracy(Petal Length-Width) vs Accuracy(Sepal Length-Width)\n",
    "- KNN: Accuracy(Petal Length-Width) vs Accuracy(Sepal Length-Width)\n",
    "- Decision Tree: Accuracy(Petal Length-Width) vs Accuracy(Sepal Length-Width)"
   ]
  },
  {
   "cell_type": "code",
   "execution_count": 38,
   "metadata": {},
   "outputs": [
    {
     "data": {
      "text/html": [
       "<div>\n",
       "<style scoped>\n",
       "    .dataframe tbody tr th:only-of-type {\n",
       "        vertical-align: middle;\n",
       "    }\n",
       "\n",
       "    .dataframe tbody tr th {\n",
       "        vertical-align: top;\n",
       "    }\n",
       "\n",
       "    .dataframe thead th {\n",
       "        text-align: right;\n",
       "    }\n",
       "</style>\n",
       "<table border=\"1\" class=\"dataframe\">\n",
       "  <thead>\n",
       "    <tr style=\"text-align: right;\">\n",
       "      <th></th>\n",
       "      <th>Algorithm</th>\n",
       "      <th>Accuracy</th>\n",
       "    </tr>\n",
       "  </thead>\n",
       "  <tbody>\n",
       "    <tr>\n",
       "      <th>0</th>\n",
       "      <td>SVC</td>\n",
       "      <td>0.973684</td>\n",
       "    </tr>\n",
       "    <tr>\n",
       "      <th>1</th>\n",
       "      <td>LogisticRegression</td>\n",
       "      <td>0.973684</td>\n",
       "    </tr>\n",
       "    <tr>\n",
       "      <th>2</th>\n",
       "      <td>RandomForestClassifier</td>\n",
       "      <td>0.973684</td>\n",
       "    </tr>\n",
       "    <tr>\n",
       "      <th>3</th>\n",
       "      <td>KNeighborsClassifier</td>\n",
       "      <td>0.973684</td>\n",
       "    </tr>\n",
       "    <tr>\n",
       "      <th>4</th>\n",
       "      <td>DecisionTreeClassifier</td>\n",
       "      <td>0.973684</td>\n",
       "    </tr>\n",
       "  </tbody>\n",
       "</table>\n",
       "</div>"
      ],
      "text/plain": [
       "                Algorithm  Accuracy\n",
       "0                     SVC  0.973684\n",
       "1      LogisticRegression  0.973684\n",
       "2  RandomForestClassifier  0.973684\n",
       "3    KNeighborsClassifier  0.973684\n",
       "4  DecisionTreeClassifier  0.973684"
      ]
     },
     "execution_count": 38,
     "metadata": {},
     "output_type": "execute_result"
    }
   ],
   "source": [
    "# First Evaluation\n",
    "def train_evaluate_classification(df, features, label, model_list):\n",
    "    \"\"\"\n",
    "    Train and evaluate machine learning models for a given list of algorithms.\n",
    "\n",
    "    Parameters:\n",
    "    - df (pd.DataFrame): The DataFrame containing the dataset\n",
    "    - features (list): List of feature names\n",
    "    - label (String): The label\n",
    "    - model_list (list): List of machine learning algorithms (pre-instantiated models)\n",
    "\n",
    "    Returns:\n",
    "    - results_df (pd.DataFrame): DataFrame containing algorithm names and corresponding accuracy scores\n",
    "    \"\"\"\n",
    "    results = []\n",
    "\n",
    "    train, test = train_test_split(df, test_size=0.25, random_state=0)\n",
    "    train_X = train[features]\n",
    "    train_y = train[label]\n",
    "    test_X = test[features]\n",
    "    test_y = test[label]\n",
    "\n",
    "    for algorithm in model_list:\n",
    "        model = algorithm\n",
    "        model.fit(train_X, train_y)\n",
    "        prediction = model.predict(test_X)\n",
    "        accuracy = accuracy_score(prediction, test_y)\n",
    "        results.append({'Algorithm': algorithm.__class__.__name__, 'Accuracy': accuracy})\n",
    "\n",
    "    results_df = pd.DataFrame(results)\n",
    "    return results_df\n",
    "\n",
    "\n",
    "features = ['SepalLengthCm', 'SepalWidthCm', 'PetalLengthCm', 'PetalWidthCm']\n",
    "model_list = [SVC(), LogisticRegression(), RandomForestClassifier(), KNeighborsClassifier(), DecisionTreeClassifier()]\n",
    "\n",
    "\n",
    "train_evaluate_classification(iris, features, \"Species\" , model_list)"
   ]
  },
  {
   "cell_type": "markdown",
   "metadata": {},
   "source": [
    "## Final Evaluation\n",
    "\n",
    "The algorithms will be parsed into a custom function as a list, the function will return a dictionary where the key is the name of the algorithm and values are sub-dictionaries of the accuracies of each model with each feature."
   ]
  },
  {
   "cell_type": "code",
   "execution_count": 39,
   "metadata": {},
   "outputs": [
    {
     "name": "stdout",
     "output_type": "stream",
     "text": [
      "Features are: ['PetalWidthCm', 'PetalLengthCm'], Label is: Species\n"
     ]
    },
    {
     "data": {
      "text/html": [
       "<div>\n",
       "<style scoped>\n",
       "    .dataframe tbody tr th:only-of-type {\n",
       "        vertical-align: middle;\n",
       "    }\n",
       "\n",
       "    .dataframe tbody tr th {\n",
       "        vertical-align: top;\n",
       "    }\n",
       "\n",
       "    .dataframe thead th {\n",
       "        text-align: right;\n",
       "    }\n",
       "</style>\n",
       "<table border=\"1\" class=\"dataframe\">\n",
       "  <thead>\n",
       "    <tr style=\"text-align: right;\">\n",
       "      <th></th>\n",
       "      <th>Algorithm</th>\n",
       "      <th>Test Size 0.1</th>\n",
       "      <th>Test Size 0.2</th>\n",
       "      <th>Test Size 0.30000000000000004</th>\n",
       "      <th>Test Size 0.4</th>\n",
       "      <th>Test Size 0.5</th>\n",
       "      <th>Test Size 0.6</th>\n",
       "      <th>Test Size 0.7000000000000001</th>\n",
       "      <th>Test Size 0.8</th>\n",
       "      <th>Test Size 0.9</th>\n",
       "    </tr>\n",
       "  </thead>\n",
       "  <tbody>\n",
       "    <tr>\n",
       "      <th>0</th>\n",
       "      <td>SVC</td>\n",
       "      <td>1.0</td>\n",
       "      <td>1.000000</td>\n",
       "      <td>0.978261</td>\n",
       "      <td>0.933333</td>\n",
       "      <td>0.946667</td>\n",
       "      <td>0.955556</td>\n",
       "      <td>0.943396</td>\n",
       "      <td>0.941667</td>\n",
       "      <td>0.911111</td>\n",
       "    </tr>\n",
       "    <tr>\n",
       "      <th>1</th>\n",
       "      <td>LogisticRegression</td>\n",
       "      <td>1.0</td>\n",
       "      <td>1.000000</td>\n",
       "      <td>0.978261</td>\n",
       "      <td>0.916667</td>\n",
       "      <td>0.960000</td>\n",
       "      <td>0.944444</td>\n",
       "      <td>0.943396</td>\n",
       "      <td>0.941667</td>\n",
       "      <td>0.925926</td>\n",
       "    </tr>\n",
       "    <tr>\n",
       "      <th>2</th>\n",
       "      <td>RandomForestClassifier</td>\n",
       "      <td>1.0</td>\n",
       "      <td>0.966667</td>\n",
       "      <td>0.978261</td>\n",
       "      <td>0.916667</td>\n",
       "      <td>0.906667</td>\n",
       "      <td>0.933333</td>\n",
       "      <td>0.962264</td>\n",
       "      <td>0.933333</td>\n",
       "      <td>0.925926</td>\n",
       "    </tr>\n",
       "    <tr>\n",
       "      <th>3</th>\n",
       "      <td>KNeighborsClassifier</td>\n",
       "      <td>1.0</td>\n",
       "      <td>1.000000</td>\n",
       "      <td>0.978261</td>\n",
       "      <td>0.950000</td>\n",
       "      <td>0.960000</td>\n",
       "      <td>0.966667</td>\n",
       "      <td>0.924528</td>\n",
       "      <td>0.916667</td>\n",
       "      <td>0.948148</td>\n",
       "    </tr>\n",
       "    <tr>\n",
       "      <th>4</th>\n",
       "      <td>DecisionTreeClassifier</td>\n",
       "      <td>1.0</td>\n",
       "      <td>0.966667</td>\n",
       "      <td>0.956522</td>\n",
       "      <td>0.883333</td>\n",
       "      <td>0.906667</td>\n",
       "      <td>0.922222</td>\n",
       "      <td>0.915094</td>\n",
       "      <td>0.916667</td>\n",
       "      <td>0.940741</td>\n",
       "    </tr>\n",
       "  </tbody>\n",
       "</table>\n",
       "</div>"
      ],
      "text/plain": [
       "                Algorithm  Test Size 0.1  Test Size 0.2  \\\n",
       "0                     SVC            1.0       1.000000   \n",
       "1      LogisticRegression            1.0       1.000000   \n",
       "2  RandomForestClassifier            1.0       0.966667   \n",
       "3    KNeighborsClassifier            1.0       1.000000   \n",
       "4  DecisionTreeClassifier            1.0       0.966667   \n",
       "\n",
       "   Test Size 0.30000000000000004  Test Size 0.4  Test Size 0.5  Test Size 0.6  \\\n",
       "0                       0.978261       0.933333       0.946667       0.955556   \n",
       "1                       0.978261       0.916667       0.960000       0.944444   \n",
       "2                       0.978261       0.916667       0.906667       0.933333   \n",
       "3                       0.978261       0.950000       0.960000       0.966667   \n",
       "4                       0.956522       0.883333       0.906667       0.922222   \n",
       "\n",
       "   Test Size 0.7000000000000001  Test Size 0.8  Test Size 0.9  \n",
       "0                      0.943396       0.941667       0.911111  \n",
       "1                      0.943396       0.941667       0.925926  \n",
       "2                      0.962264       0.933333       0.925926  \n",
       "3                      0.924528       0.916667       0.948148  \n",
       "4                      0.915094       0.916667       0.940741  "
      ]
     },
     "execution_count": 39,
     "metadata": {},
     "output_type": "execute_result"
    }
   ],
   "source": [
    "model_list = [SVC(), LogisticRegression(), RandomForestClassifier(), KNeighborsClassifier(), DecisionTreeClassifier()]\n",
    "test_sizes = np.arange(0.1, 1.0, 0.1).tolist()\n",
    "\n",
    "def train_evaluate_classification_advanced(df, algorithms, test_sizes, features, label):\n",
    "    \"\"\"\n",
    "    Train and evaluate machine learning models for each algorithm using different test sizes.\n",
    "\n",
    "    Parameters:\n",
    "    - algorithms (List): List of machine learning algorithms (pre-instantiated models)\n",
    "    - test_sizes (List): List of test sizes for train_test_split\n",
    "    - X (List): Features\n",
    "    - y (List): Target variable\n",
    "\n",
    "    Returns:\n",
    "    - results_df (pd.DataFrame): DataFrame containing algorithms, test sizes, and corresponding accuracy scores\n",
    "    \"\"\"\n",
    "    x = df[features]\n",
    "    species = df[label]\n",
    "    print(f'Features are: {features}, Label is: {label}')\n",
    "\n",
    "    results = []\n",
    "\n",
    "    for algorithm in algorithms:\n",
    "        algorithm_name = algorithm.__class__.__name__\n",
    "        algorithm_results = {\"Algorithm\": algorithm_name}\n",
    "\n",
    "        for i in test_sizes:\n",
    "            train_, test_ = train_test_split(df, test_size = i, random_state=0)\n",
    "            train_x = train_[features]\n",
    "            train_y = train_[label]\n",
    "            test_x = test_[features]\n",
    "            test_y = test_[label]\n",
    "\n",
    "            model = algorithm\n",
    "            model.fit(train_x, train_y)\n",
    "            prediction = model.predict(test_x)\n",
    "\n",
    "            accuracy = accuracy_score(prediction, test_y)\n",
    "            algorithm_results[f\"Test Size {i}\"] = accuracy\n",
    "\n",
    "        results.append(algorithm_results)\n",
    "\n",
    "    results_df = pd.DataFrame(results)\n",
    "    return results_df\n",
    "\n",
    "\n",
    "train_evaluate_classification_advanced(iris, model_list, test_sizes, ['PetalWidthCm','PetalLengthCm'], \"Species\")\n",
    "        \n"
   ]
  },
  {
   "cell_type": "code",
   "execution_count": 40,
   "metadata": {},
   "outputs": [
    {
     "name": "stdout",
     "output_type": "stream",
     "text": [
      "Features are: ['SepalWidthCm', 'SepalLengthCm'], Label is: Species\n"
     ]
    },
    {
     "data": {
      "text/html": [
       "<div>\n",
       "<style scoped>\n",
       "    .dataframe tbody tr th:only-of-type {\n",
       "        vertical-align: middle;\n",
       "    }\n",
       "\n",
       "    .dataframe tbody tr th {\n",
       "        vertical-align: top;\n",
       "    }\n",
       "\n",
       "    .dataframe thead th {\n",
       "        text-align: right;\n",
       "    }\n",
       "</style>\n",
       "<table border=\"1\" class=\"dataframe\">\n",
       "  <thead>\n",
       "    <tr style=\"text-align: right;\">\n",
       "      <th></th>\n",
       "      <th>Algorithm</th>\n",
       "      <th>Test Size 0.1</th>\n",
       "      <th>Test Size 0.2</th>\n",
       "      <th>Test Size 0.30000000000000004</th>\n",
       "      <th>Test Size 0.4</th>\n",
       "      <th>Test Size 0.5</th>\n",
       "      <th>Test Size 0.6</th>\n",
       "      <th>Test Size 0.7000000000000001</th>\n",
       "      <th>Test Size 0.8</th>\n",
       "      <th>Test Size 0.9</th>\n",
       "    </tr>\n",
       "  </thead>\n",
       "  <tbody>\n",
       "    <tr>\n",
       "      <th>0</th>\n",
       "      <td>SVC</td>\n",
       "      <td>0.600000</td>\n",
       "      <td>0.733333</td>\n",
       "      <td>0.804348</td>\n",
       "      <td>0.716667</td>\n",
       "      <td>0.720000</td>\n",
       "      <td>0.744444</td>\n",
       "      <td>0.735849</td>\n",
       "      <td>0.750000</td>\n",
       "      <td>0.681481</td>\n",
       "    </tr>\n",
       "    <tr>\n",
       "      <th>1</th>\n",
       "      <td>LogisticRegression</td>\n",
       "      <td>0.600000</td>\n",
       "      <td>0.733333</td>\n",
       "      <td>0.804348</td>\n",
       "      <td>0.716667</td>\n",
       "      <td>0.706667</td>\n",
       "      <td>0.722222</td>\n",
       "      <td>0.735849</td>\n",
       "      <td>0.758333</td>\n",
       "      <td>0.777778</td>\n",
       "    </tr>\n",
       "    <tr>\n",
       "      <th>2</th>\n",
       "      <td>RandomForestClassifier</td>\n",
       "      <td>0.400000</td>\n",
       "      <td>0.533333</td>\n",
       "      <td>0.586957</td>\n",
       "      <td>0.666667</td>\n",
       "      <td>0.680000</td>\n",
       "      <td>0.633333</td>\n",
       "      <td>0.698113</td>\n",
       "      <td>0.733333</td>\n",
       "      <td>0.666667</td>\n",
       "    </tr>\n",
       "    <tr>\n",
       "      <th>3</th>\n",
       "      <td>KNeighborsClassifier</td>\n",
       "      <td>0.733333</td>\n",
       "      <td>0.666667</td>\n",
       "      <td>0.739130</td>\n",
       "      <td>0.666667</td>\n",
       "      <td>0.666667</td>\n",
       "      <td>0.655556</td>\n",
       "      <td>0.688679</td>\n",
       "      <td>0.775000</td>\n",
       "      <td>0.770370</td>\n",
       "    </tr>\n",
       "    <tr>\n",
       "      <th>4</th>\n",
       "      <td>DecisionTreeClassifier</td>\n",
       "      <td>0.466667</td>\n",
       "      <td>0.666667</td>\n",
       "      <td>0.652174</td>\n",
       "      <td>0.666667</td>\n",
       "      <td>0.653333</td>\n",
       "      <td>0.622222</td>\n",
       "      <td>0.688679</td>\n",
       "      <td>0.741667</td>\n",
       "      <td>0.740741</td>\n",
       "    </tr>\n",
       "  </tbody>\n",
       "</table>\n",
       "</div>"
      ],
      "text/plain": [
       "                Algorithm  Test Size 0.1  Test Size 0.2  \\\n",
       "0                     SVC       0.600000       0.733333   \n",
       "1      LogisticRegression       0.600000       0.733333   \n",
       "2  RandomForestClassifier       0.400000       0.533333   \n",
       "3    KNeighborsClassifier       0.733333       0.666667   \n",
       "4  DecisionTreeClassifier       0.466667       0.666667   \n",
       "\n",
       "   Test Size 0.30000000000000004  Test Size 0.4  Test Size 0.5  Test Size 0.6  \\\n",
       "0                       0.804348       0.716667       0.720000       0.744444   \n",
       "1                       0.804348       0.716667       0.706667       0.722222   \n",
       "2                       0.586957       0.666667       0.680000       0.633333   \n",
       "3                       0.739130       0.666667       0.666667       0.655556   \n",
       "4                       0.652174       0.666667       0.653333       0.622222   \n",
       "\n",
       "   Test Size 0.7000000000000001  Test Size 0.8  Test Size 0.9  \n",
       "0                      0.735849       0.750000       0.681481  \n",
       "1                      0.735849       0.758333       0.777778  \n",
       "2                      0.698113       0.733333       0.666667  \n",
       "3                      0.688679       0.775000       0.770370  \n",
       "4                      0.688679       0.741667       0.740741  "
      ]
     },
     "execution_count": 40,
     "metadata": {},
     "output_type": "execute_result"
    }
   ],
   "source": [
    "train_evaluate_classification_advanced(iris, model_list, test_sizes, ['SepalWidthCm','SepalLengthCm'], \"Species\")"
   ]
  }
 ],
 "metadata": {
  "kernelspec": {
   "display_name": "base",
   "language": "python",
   "name": "python3"
  },
  "language_info": {
   "codemirror_mode": {
    "name": "ipython",
    "version": 3
   },
   "file_extension": ".py",
   "mimetype": "text/x-python",
   "name": "python",
   "nbconvert_exporter": "python",
   "pygments_lexer": "ipython3",
   "version": "3.12.0"
  }
 },
 "nbformat": 4,
 "nbformat_minor": 2
}
